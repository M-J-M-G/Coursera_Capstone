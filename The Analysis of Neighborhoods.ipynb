{
 "cells": [
  {
   "cell_type": "markdown",
   "metadata": {},
   "source": [
    "# Examination of Toronto Real Estate Sales Rates & Venues Data \n",
    "\n",
    "# A.\tIntroduction\n",
    "\n",
    "# A.1. Description & Discussion of the Background\n",
    "\n",
    "Toronto is the capital of Ontario and is the metropolitan area with close to 3 million residents. It has the population density of 4334.4 people per square kilometer with many neighborhoods with diverse characteristics. The city has the land area of 630 square kilometers. It is needless to point out that every year the city attracts large population of visitors both for business and pleasure.[1]\n",
    "\n",
    "The Greater Toronto Area (GTA) held large population of consumers and numerous financial centers. Being such a crowded urban area mean the city held many shopping stores and social gathering places where the population is dense. The new investors tend to choose areas to establish their business with high population density of consumers with lower real estate cost and lower competition. However, the average residents mostly gravitate to areas with high social gathering venues density with lower real estate cost. The difficulty of making the decision to commit to the area to reside or invest is a major challenge and not to be taken lightly. \n",
    "\n",
    "To ease the assessment problem for new residents and entrepreneurs, we can create a map with helpful data and informative charts for real estate rates where the different neighborhoods of Toronto are clustered based on venues density.\n"
   ]
  },
  {
   "cell_type": "markdown",
   "metadata": {},
   "source": [
    "# A.2. Data Description \n",
    "\n",
    "To study the aforementioned challenges, the data needed are as follows:\n",
    "\n",
    "•\tI obtained the data on venues of given Borough of Toronto from Forsquare API.[2]\n",
    "\n",
    "•\tThe average sale price of real estate properties for each neighborhoods of the city found from Toronto real estate data listed on famous “zolo.com” online databases.[3]\n",
    "\n",
    "•\tThe .json file of Toronto obtained and cleaned for creating the choropleth map of real estate average sale price index of Toronto along with venues data.\n",
    "\n",
    "•\tI used The Google Map, ‘Search Nearby’ option to get the coordinates of each neighborhood of Toronto.[4]\n",
    "\n",
    "\n",
    "# B. References\n",
    "\n",
    "[1] [Toronto - Wikipedia](https://en.wikipedia.org/wiki/Toronto)\n",
    "\n",
    "[2] [Forsquare API](https://developer.foursquare.com/)\n",
    "\n",
    "[3] [The average sale price of Toronto’s real estate](https://www.zolo.ca/toronto-real-estate/neighbourhoods)\n",
    "\n",
    "[4] [Google Map](https://www.google.com/maps/)\n"
   ]
  },
  {
   "cell_type": "code",
   "execution_count": null,
   "metadata": {},
   "outputs": [],
   "source": []
  }
 ],
 "metadata": {
  "kernelspec": {
   "display_name": "Python 3",
   "language": "python",
   "name": "python3"
  },
  "language_info": {
   "codemirror_mode": {
    "name": "ipython",
    "version": 3
   },
   "file_extension": ".py",
   "mimetype": "text/x-python",
   "name": "python",
   "nbconvert_exporter": "python",
   "pygments_lexer": "ipython3",
   "version": "3.7.3"
  }
 },
 "nbformat": 4,
 "nbformat_minor": 2
}
